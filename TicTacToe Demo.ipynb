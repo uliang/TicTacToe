{
 "cells": [
  {
   "cell_type": "code",
   "execution_count": 1,
   "id": "16d82c9f-479e-4f6e-a65f-1fff2bdfdd2f",
   "metadata": {
    "tags": []
   },
   "outputs": [],
   "source": [
    "%load_ext autoreload \n",
    "%autoreload 2 "
   ]
  },
  {
   "cell_type": "code",
   "execution_count": 2,
   "id": "0bf4ea40-dc09-498b-b38b-db2193d1effa",
   "metadata": {},
   "outputs": [],
   "source": [
    "from board import Board\n",
    "\n",
    "b = Board()"
   ]
  },
  {
   "cell_type": "code",
   "execution_count": 21,
   "id": "0f30c98b-317c-4079-964e-689934790f00",
   "metadata": {},
   "outputs": [],
   "source": [
    "def alphabetapruning(board, alpha, beta, shouldmax): \n",
    "    if board.check_win_condition(): \n",
    "        value = 1 if shouldmax else -1\n",
    "        print(\"Returning\", value)\n",
    "        return value\n",
    "    elif board.depth==9: \n",
    "        value = 0\n",
    "        print(\"Returning\", value)\n",
    "        return value\n",
    "    for move in board.generate_moveset():\n",
    "        next_board = board.make_move(move)\n",
    "        if shouldmax: \n",
    "            value = -999\n",
    "            value_to_compare = yield from alphabetapruning(next_board, alpha, beta, not shouldmax)\n",
    "            value = max(value, value_to_compare)\n",
    "            alpha = max(alpha, value)\n",
    "            if value >= beta: \n",
    "                break\n",
    "        else:\n",
    "            value = 999\n",
    "            value_to_compare = yield from alphabetapruning(next_board, alpha, beta, not shouldmax)\n",
    "            value = min(value, value_to_compare)\n",
    "            beta = min(beta, value)\n",
    "            if value <= alpha:\n",
    "                break\n",
    "        print(\"Yielding\", value, \"from\")\n",
    "        print(next_board)\n",
    "        yield value\n",
    "            "
   ]
  },
  {
   "cell_type": "code",
   "execution_count": 22,
   "id": "6b1b0ed6-cd74-45ef-b0ec-e1cf95cacd43",
   "metadata": {},
   "outputs": [
    {
     "name": "stdin",
     "output_type": "stream",
     "text": [
      " \n"
     ]
    },
    {
     "name": "stdout",
     "output_type": "stream",
     "text": [
      "Returning 1\n",
      "Yielding 1 from\n",
      "[['x' 'o' 'x']\n",
      " ['o' 'x' 'o']\n",
      " ['x' 'o' ' ']]\n"
     ]
    },
    {
     "name": "stdin",
     "output_type": "stream",
     "text": [
      " \n"
     ]
    },
    {
     "name": "stdout",
     "output_type": "stream",
     "text": [
      "Returning 1\n",
      "Yielding 1 from\n",
      "[['x' 'o' 'x']\n",
      " ['o' 'x' 'o']\n",
      " ['x' ' ' 'o']]\n"
     ]
    },
    {
     "name": "stdin",
     "output_type": "stream",
     "text": [
      " \n"
     ]
    },
    {
     "ename": "TypeError",
     "evalue": "'>' not supported between instances of 'NoneType' and 'int'",
     "output_type": "error",
     "traceback": [
      "\u001b[0;31m---------------------------------------------------------------------------\u001b[0m",
      "\u001b[0;31mTypeError\u001b[0m                                 Traceback (most recent call last)",
      "Input \u001b[0;32mIn [22]\u001b[0m, in \u001b[0;36m<cell line: 3>\u001b[0;34m()\u001b[0m\n\u001b[1;32m      1\u001b[0m search \u001b[38;5;241m=\u001b[39m alphabetapruning(b, \u001b[38;5;241m-\u001b[39m\u001b[38;5;241m999\u001b[39m, \u001b[38;5;241m999\u001b[39m, \u001b[38;5;28;01mTrue\u001b[39;00m)\n\u001b[1;32m      3\u001b[0m \u001b[38;5;28;01mwhile\u001b[39;00m \u001b[38;5;28minput\u001b[39m()\u001b[38;5;241m!=\u001b[39m\u001b[38;5;124m'\u001b[39m\u001b[38;5;124mq\u001b[39m\u001b[38;5;124m'\u001b[39m: \n\u001b[0;32m----> 4\u001b[0m     \u001b[38;5;28;43mnext\u001b[39;49m\u001b[43m(\u001b[49m\u001b[43msearch\u001b[49m\u001b[43m)\u001b[49m\n",
      "Input \u001b[0;32mIn [21]\u001b[0m, in \u001b[0;36malphabetapruning\u001b[0;34m(board, alpha, beta, shouldmax)\u001b[0m\n\u001b[1;32m     12\u001b[0m \u001b[38;5;28;01mif\u001b[39;00m shouldmax: \n\u001b[1;32m     13\u001b[0m     value \u001b[38;5;241m=\u001b[39m \u001b[38;5;241m-\u001b[39m\u001b[38;5;241m999\u001b[39m\n\u001b[0;32m---> 14\u001b[0m     value_to_compare \u001b[38;5;241m=\u001b[39m \u001b[38;5;28;01myield from\u001b[39;00m alphabetapruning(next_board, alpha, beta, \u001b[38;5;129;01mnot\u001b[39;00m shouldmax)\n\u001b[1;32m     15\u001b[0m     value \u001b[38;5;241m=\u001b[39m \u001b[38;5;28mmax\u001b[39m(value, value_to_compare)\n\u001b[1;32m     16\u001b[0m     alpha \u001b[38;5;241m=\u001b[39m \u001b[38;5;28mmax\u001b[39m(alpha, value)\n",
      "Input \u001b[0;32mIn [21]\u001b[0m, in \u001b[0;36malphabetapruning\u001b[0;34m(board, alpha, beta, shouldmax)\u001b[0m\n\u001b[1;32m     19\u001b[0m \u001b[38;5;28;01melse\u001b[39;00m:\n\u001b[1;32m     20\u001b[0m     value \u001b[38;5;241m=\u001b[39m \u001b[38;5;241m999\u001b[39m\n\u001b[0;32m---> 21\u001b[0m     value_to_compare \u001b[38;5;241m=\u001b[39m \u001b[38;5;28;01myield from\u001b[39;00m alphabetapruning(next_board, alpha, beta, \u001b[38;5;129;01mnot\u001b[39;00m shouldmax)\n\u001b[1;32m     22\u001b[0m     value \u001b[38;5;241m=\u001b[39m \u001b[38;5;28mmin\u001b[39m(value, value_to_compare)\n\u001b[1;32m     23\u001b[0m     beta \u001b[38;5;241m=\u001b[39m \u001b[38;5;28mmin\u001b[39m(beta, value)\n",
      "Input \u001b[0;32mIn [21]\u001b[0m, in \u001b[0;36malphabetapruning\u001b[0;34m(board, alpha, beta, shouldmax)\u001b[0m\n\u001b[1;32m     12\u001b[0m \u001b[38;5;28;01mif\u001b[39;00m shouldmax: \n\u001b[1;32m     13\u001b[0m     value \u001b[38;5;241m=\u001b[39m \u001b[38;5;241m-\u001b[39m\u001b[38;5;241m999\u001b[39m\n\u001b[0;32m---> 14\u001b[0m     value_to_compare \u001b[38;5;241m=\u001b[39m \u001b[38;5;28;01myield from\u001b[39;00m alphabetapruning(next_board, alpha, beta, \u001b[38;5;129;01mnot\u001b[39;00m shouldmax)\n\u001b[1;32m     15\u001b[0m     value \u001b[38;5;241m=\u001b[39m \u001b[38;5;28mmax\u001b[39m(value, value_to_compare)\n\u001b[1;32m     16\u001b[0m     alpha \u001b[38;5;241m=\u001b[39m \u001b[38;5;28mmax\u001b[39m(alpha, value)\n",
      "Input \u001b[0;32mIn [21]\u001b[0m, in \u001b[0;36malphabetapruning\u001b[0;34m(board, alpha, beta, shouldmax)\u001b[0m\n\u001b[1;32m     19\u001b[0m \u001b[38;5;28;01melse\u001b[39;00m:\n\u001b[1;32m     20\u001b[0m     value \u001b[38;5;241m=\u001b[39m \u001b[38;5;241m999\u001b[39m\n\u001b[0;32m---> 21\u001b[0m     value_to_compare \u001b[38;5;241m=\u001b[39m \u001b[38;5;28;01myield from\u001b[39;00m alphabetapruning(next_board, alpha, beta, \u001b[38;5;129;01mnot\u001b[39;00m shouldmax)\n\u001b[1;32m     22\u001b[0m     value \u001b[38;5;241m=\u001b[39m \u001b[38;5;28mmin\u001b[39m(value, value_to_compare)\n\u001b[1;32m     23\u001b[0m     beta \u001b[38;5;241m=\u001b[39m \u001b[38;5;28mmin\u001b[39m(beta, value)\n",
      "Input \u001b[0;32mIn [21]\u001b[0m, in \u001b[0;36malphabetapruning\u001b[0;34m(board, alpha, beta, shouldmax)\u001b[0m\n\u001b[1;32m     12\u001b[0m \u001b[38;5;28;01mif\u001b[39;00m shouldmax: \n\u001b[1;32m     13\u001b[0m     value \u001b[38;5;241m=\u001b[39m \u001b[38;5;241m-\u001b[39m\u001b[38;5;241m999\u001b[39m\n\u001b[0;32m---> 14\u001b[0m     value_to_compare \u001b[38;5;241m=\u001b[39m \u001b[38;5;28;01myield from\u001b[39;00m alphabetapruning(next_board, alpha, beta, \u001b[38;5;129;01mnot\u001b[39;00m shouldmax)\n\u001b[1;32m     15\u001b[0m     value \u001b[38;5;241m=\u001b[39m \u001b[38;5;28mmax\u001b[39m(value, value_to_compare)\n\u001b[1;32m     16\u001b[0m     alpha \u001b[38;5;241m=\u001b[39m \u001b[38;5;28mmax\u001b[39m(alpha, value)\n",
      "Input \u001b[0;32mIn [21]\u001b[0m, in \u001b[0;36malphabetapruning\u001b[0;34m(board, alpha, beta, shouldmax)\u001b[0m\n\u001b[1;32m     19\u001b[0m \u001b[38;5;28;01melse\u001b[39;00m:\n\u001b[1;32m     20\u001b[0m     value \u001b[38;5;241m=\u001b[39m \u001b[38;5;241m999\u001b[39m\n\u001b[0;32m---> 21\u001b[0m     value_to_compare \u001b[38;5;241m=\u001b[39m \u001b[38;5;28;01myield from\u001b[39;00m alphabetapruning(next_board, alpha, beta, \u001b[38;5;129;01mnot\u001b[39;00m shouldmax)\n\u001b[1;32m     22\u001b[0m     value \u001b[38;5;241m=\u001b[39m \u001b[38;5;28mmin\u001b[39m(value, value_to_compare)\n\u001b[1;32m     23\u001b[0m     beta \u001b[38;5;241m=\u001b[39m \u001b[38;5;28mmin\u001b[39m(beta, value)\n",
      "Input \u001b[0;32mIn [21]\u001b[0m, in \u001b[0;36malphabetapruning\u001b[0;34m(board, alpha, beta, shouldmax)\u001b[0m\n\u001b[1;32m     13\u001b[0m value \u001b[38;5;241m=\u001b[39m \u001b[38;5;241m-\u001b[39m\u001b[38;5;241m999\u001b[39m\n\u001b[1;32m     14\u001b[0m value_to_compare \u001b[38;5;241m=\u001b[39m \u001b[38;5;28;01myield from\u001b[39;00m alphabetapruning(next_board, alpha, beta, \u001b[38;5;129;01mnot\u001b[39;00m shouldmax)\n\u001b[0;32m---> 15\u001b[0m value \u001b[38;5;241m=\u001b[39m \u001b[38;5;28;43mmax\u001b[39;49m\u001b[43m(\u001b[49m\u001b[43mvalue\u001b[49m\u001b[43m,\u001b[49m\u001b[43m \u001b[49m\u001b[43mvalue_to_compare\u001b[49m\u001b[43m)\u001b[49m\n\u001b[1;32m     16\u001b[0m alpha \u001b[38;5;241m=\u001b[39m \u001b[38;5;28mmax\u001b[39m(alpha, value)\n\u001b[1;32m     17\u001b[0m \u001b[38;5;28;01mif\u001b[39;00m value \u001b[38;5;241m>\u001b[39m\u001b[38;5;241m=\u001b[39m beta: \n",
      "\u001b[0;31mTypeError\u001b[0m: '>' not supported between instances of 'NoneType' and 'int'"
     ]
    }
   ],
   "source": [
    "search = alphabetapruning(b, -999, 999, True)\n",
    "\n",
    "while input()!='q': \n",
    "    next(search)"
   ]
  },
  {
   "cell_type": "code",
   "execution_count": null,
   "id": "3179fb32-6332-4c75-beb0-87b051c80bc1",
   "metadata": {},
   "outputs": [],
   "source": []
  }
 ],
 "metadata": {
  "kernelspec": {
   "display_name": "Python 3 (ipykernel)",
   "language": "python",
   "name": "python3"
  },
  "language_info": {
   "codemirror_mode": {
    "name": "ipython",
    "version": 3
   },
   "file_extension": ".py",
   "mimetype": "text/x-python",
   "name": "python",
   "nbconvert_exporter": "python",
   "pygments_lexer": "ipython3",
   "version": "3.10.5"
  }
 },
 "nbformat": 4,
 "nbformat_minor": 5
}
