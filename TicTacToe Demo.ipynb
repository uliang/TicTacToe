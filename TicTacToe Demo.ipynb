{
 "cells": [
  {
   "cell_type": "code",
   "execution_count": 1,
   "id": "16d82c9f-479e-4f6e-a65f-1fff2bdfdd2f",
   "metadata": {
    "execution": {
     "iopub.execute_input": "2022-07-14T02:17:23.651218Z",
     "iopub.status.busy": "2022-07-14T02:17:23.651218Z",
     "iopub.status.idle": "2022-07-14T02:17:23.785639Z",
     "shell.execute_reply": "2022-07-14T02:17:23.784641Z",
     "shell.execute_reply.started": "2022-07-14T02:17:23.651218Z"
    },
    "tags": []
   },
   "outputs": [],
   "source": [
    "%load_ext autoreload \n",
    "%autoreload 2 "
   ]
  },
  {
   "cell_type": "code",
   "execution_count": 20,
   "id": "0bf4ea40-dc09-498b-b38b-db2193d1effa",
   "metadata": {
    "execution": {
     "iopub.execute_input": "2022-07-14T02:52:40.854327Z",
     "iopub.status.busy": "2022-07-14T02:52:40.854327Z",
     "iopub.status.idle": "2022-07-14T02:52:41.018757Z",
     "shell.execute_reply": "2022-07-14T02:52:41.018757Z",
     "shell.execute_reply.started": "2022-07-14T02:52:40.854327Z"
    },
    "tags": []
   },
   "outputs": [],
   "source": [
    "from board import Board\n",
    "\n",
    "b = Board()"
   ]
  },
  {
   "cell_type": "code",
   "execution_count": 24,
   "id": "0f30c98b-317c-4079-964e-689934790f00",
   "metadata": {
    "execution": {
     "iopub.execute_input": "2022-07-14T03:02:51.293366Z",
     "iopub.status.busy": "2022-07-14T03:02:51.293366Z",
     "iopub.status.idle": "2022-07-14T03:02:51.408630Z",
     "shell.execute_reply": "2022-07-14T03:02:51.408630Z",
     "shell.execute_reply.started": "2022-07-14T03:02:51.293366Z"
    },
    "tags": []
   },
   "outputs": [],
   "source": [
    "def alphabetapruning(board, alpha, beta, shouldmax): \n",
    "    \n",
    "    if board.check_win_condition(): \n",
    "        value = 1 if shouldmax else -1\n",
    "        print(\"Returning\", value, 'from') \n",
    "        print(board)\n",
    "        return value\n",
    "    elif board.depth==9: \n",
    "        value = 0\n",
    "        print(\"Returning\", value, \"from\")  \n",
    "        print(board)\n",
    "        return value\n",
    "\n",
    "    for move in board.generate_moveset():\n",
    "        next_board = board.make_move(move)\n",
    "        value_to_compare = yield from alphabetapruning(next_board, alpha, beta, not shouldmax)\n",
    "        if value_to_compare is None: \n",
    "            continue\n",
    "        if shouldmax: \n",
    "            value = -999\n",
    "            value = max(value, value_to_compare)\n",
    "            alpha = max(alpha, value)\n",
    "            if value >= beta: \n",
    "                break\n",
    "        else:\n",
    "            value = 999\n",
    "            value = min(value, value_to_compare)\n",
    "            beta = min(beta, value)\n",
    "            if value <= alpha:\n",
    "                break\n",
    "        \n",
    "        print(\"Yielding\", value, \"from\")\n",
    "        print(board)\n",
    "        yield value\n",
    "            "
   ]
  },
  {
   "cell_type": "code",
   "execution_count": null,
   "id": "a7fabead-ec79-4710-a264-a266d34bd937",
   "metadata": {
    "tags": []
   },
   "outputs": [],
   "source": [
    "search = alphabetapruning(b, -999, 999, False)\n",
    "while input()!='q': \n",
    "    next(search)"
   ]
  },
  {
   "cell_type": "code",
   "execution_count": null,
   "id": "ad013a67-3c1c-4a0c-bc8f-0d8b30aa7fb7",
   "metadata": {},
   "outputs": [],
   "source": []
  }
 ],
 "metadata": {
  "kernelspec": {
   "display_name": "Python 3 (ipykernel)",
   "language": "python",
   "name": "python3"
  },
  "language_info": {
   "codemirror_mode": {
    "name": "ipython",
    "version": 3
   },
   "file_extension": ".py",
   "mimetype": "text/x-python",
   "name": "python",
   "nbconvert_exporter": "python",
   "pygments_lexer": "ipython3",
   "version": "3.10.4"
  }
 },
 "nbformat": 4,
 "nbformat_minor": 5
}
