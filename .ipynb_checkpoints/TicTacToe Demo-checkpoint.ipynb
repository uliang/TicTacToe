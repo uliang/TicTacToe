{
 "cells": [
  {
   "cell_type": "code",
   "execution_count": 1,
   "id": "16d82c9f-479e-4f6e-a65f-1fff2bdfdd2f",
   "metadata": {
    "execution": {
     "iopub.execute_input": "2022-07-13T04:09:07.023626Z",
     "iopub.status.busy": "2022-07-13T04:09:07.022596Z",
     "iopub.status.idle": "2022-07-13T04:09:07.160297Z",
     "shell.execute_reply": "2022-07-13T04:09:07.159520Z",
     "shell.execute_reply.started": "2022-07-13T04:09:07.023626Z"
    }
   },
   "outputs": [],
   "source": [
    "%load_ext autoreload \n",
    "%autoreload 2 "
   ]
  },
  {
   "cell_type": "code",
   "execution_count": 56,
   "id": "d4b2af41-5600-4f54-b4fb-872fea2a1d65",
   "metadata": {
    "execution": {
     "iopub.execute_input": "2022-07-13T06:25:42.289243Z",
     "iopub.status.busy": "2022-07-13T06:25:42.289243Z",
     "iopub.status.idle": "2022-07-13T06:25:42.530207Z",
     "shell.execute_reply": "2022-07-13T06:25:42.529209Z",
     "shell.execute_reply.started": "2022-07-13T06:25:42.289243Z"
    },
    "tags": []
   },
   "outputs": [],
   "source": [
    "from game import Game \n",
    "\n",
    "g = Game()"
   ]
  },
  {
   "cell_type": "code",
   "execution_count": 57,
   "id": "2abbc5cf-d31a-4231-8d49-c721921059db",
   "metadata": {
    "execution": {
     "iopub.execute_input": "2022-07-13T06:25:43.028961Z",
     "iopub.status.busy": "2022-07-13T06:25:43.027964Z",
     "iopub.status.idle": "2022-07-13T06:26:10.961919Z",
     "shell.execute_reply": "2022-07-13T06:26:10.960919Z",
     "shell.execute_reply.started": "2022-07-13T06:25:43.028961Z"
    },
    "tags": []
   },
   "outputs": [
    {
     "name": "stdin",
     "output_type": "stream",
     "text": [
      "Move (1-9, q to exit) 1\n"
     ]
    },
    {
     "name": "stdout",
     "output_type": "stream",
     "text": [
      "[['x' ' ' ' ']\n",
      " [' ' ' ' ' ']\n",
      " [' ' ' ' ' ']]\n"
     ]
    },
    {
     "name": "stdin",
     "output_type": "stream",
     "text": [
      "Move (1-9, q to exit) 2\n"
     ]
    },
    {
     "name": "stdout",
     "output_type": "stream",
     "text": [
      "[['x' 'o' ' ']\n",
      " [' ' ' ' ' ']\n",
      " [' ' ' ' ' ']]\n"
     ]
    },
    {
     "name": "stdin",
     "output_type": "stream",
     "text": [
      "Move (1-9, q to exit) 5\n"
     ]
    },
    {
     "name": "stdout",
     "output_type": "stream",
     "text": [
      "[['x' 'o' ' ']\n",
      " [' ' 'x' ' ']\n",
      " [' ' ' ' ' ']]\n"
     ]
    },
    {
     "name": "stdin",
     "output_type": "stream",
     "text": [
      "Move (1-9, q to exit) 4\n"
     ]
    },
    {
     "name": "stdout",
     "output_type": "stream",
     "text": [
      "[['x' 'o' ' ']\n",
      " ['o' 'x' ' ']\n",
      " [' ' ' ' ' ']]\n"
     ]
    },
    {
     "name": "stdin",
     "output_type": "stream",
     "text": [
      "Move (1-9, q to exit) 9\n"
     ]
    },
    {
     "name": "stdout",
     "output_type": "stream",
     "text": [
      "Player x has won\n",
      "[['x' 'o' ' ']\n",
      " ['o' 'x' ' ']\n",
      " [' ' ' ' 'x']]\n"
     ]
    },
    {
     "name": "stdin",
     "output_type": "stream",
     "text": [
      "Move (1-9, q to exit) 7\n"
     ]
    },
    {
     "name": "stdout",
     "output_type": "stream",
     "text": [
      "Game is completed\n",
      "[['x' 'o' ' ']\n",
      " ['o' 'x' ' ']\n",
      " [' ' ' ' 'x']]\n"
     ]
    },
    {
     "name": "stdin",
     "output_type": "stream",
     "text": [
      "Move (1-9, q to exit) q\n"
     ]
    }
   ],
   "source": [
    "g.run()"
   ]
  },
  {
   "cell_type": "code",
   "execution_count": null,
   "id": "524fff32-fcfe-4823-b7c8-4f62ae5d2fd9",
   "metadata": {},
   "outputs": [],
   "source": []
  }
 ],
 "metadata": {
  "kernelspec": {
   "display_name": "Python 3 (ipykernel)",
   "language": "python",
   "name": "python3"
  },
  "language_info": {
   "codemirror_mode": {
    "name": "ipython",
    "version": 3
   },
   "file_extension": ".py",
   "mimetype": "text/x-python",
   "name": "python",
   "nbconvert_exporter": "python",
   "pygments_lexer": "ipython3",
   "version": "3.10.4"
  }
 },
 "nbformat": 4,
 "nbformat_minor": 5
}
